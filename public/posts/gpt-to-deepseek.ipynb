{
 "cells": [
  {
   "cell_type": "markdown",
   "metadata": {},
   "source": [
    "# Table of Contents\n",
    "1. [Introduction](#introduction)\n",
    "2. [Model Architecture](#model-architecture)\n",
    "3. [Inference](#inference)\n",
    "4. [Conclusion](#conclusion)"
   ]
  },
  {
   "cell_type": "markdown",
   "metadata": {},
   "source": [
    "# Introduction\n",
    "\n",
    "\n",
    "\n",
    "\n",
    "\n"
   ]
  },
  {
   "cell_type": "code",
   "execution_count": null,
   "metadata": {},
   "outputs": [],
   "source": [
    "{\n",
    "    \"vocab_size\": 129280,\n",
    "    \"dim\": 7168,\n",
    "    \"inter_dim\": 18432,\n",
    "    \"moe_inter_dim\": 2048,\n",
    "    \"n_layers\": 61,\n",
    "    \"n_dense_layers\": 3,\n",
    "    \"n_heads\": 128,\n",
    "    \"n_routed_experts\": 256,\n",
    "    \"n_shared_experts\": 1,\n",
    "    \"n_activated_experts\": 8,\n",
    "    \"n_expert_groups\": 8,\n",
    "    \"n_limited_groups\": 4,\n",
    "    \"route_scale\": 2.5,\n",
    "    \"score_func\": \"sigmoid\",\n",
    "    \"q_lora_rank\": 1536,\n",
    "    \"kv_lora_rank\": 512,\n",
    "    \"qk_nope_head_dim\": 128,\n",
    "    \"qk_rope_head_dim\": 64,\n",
    "    \"v_head_dim\": 128,\n",
    "    \"dtype\": \"fp8\"\n",
    "}"
   ]
  },
  {
   "cell_type": "markdown",
   "metadata": {},
   "source": [
    "# Model Arguments\n",
    "\n",
    "\n",
    "\n",
    "# MLA\n",
    "\n",
    "# DeepSeekMoE\n",
    "\n",
    "\n",
    "# RMS Norm\n",
    "\n",
    "# Model Parallelism\n",
    "\n",
    "# Quantization\n"
   ]
  },
  {
   "cell_type": "markdown",
   "metadata": {},
   "source": [
    "# Positional Embeddings\n",
    "\n",
    "## Rotary Embeddings\n",
    "\n"
   ]
  }
 ],
 "metadata": {
  "kernelspec": {
   "display_name": "base",
   "language": "python",
   "name": "python3"
  },
  "language_info": {
   "name": "python",
   "version": "3.11.11"
  }
 },
 "nbformat": 4,
 "nbformat_minor": 2
}
